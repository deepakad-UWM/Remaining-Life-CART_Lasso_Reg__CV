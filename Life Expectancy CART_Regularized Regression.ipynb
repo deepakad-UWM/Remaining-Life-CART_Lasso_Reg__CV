{
 "cells": [
  {
   "cell_type": "code",
   "execution_count": 1,
   "metadata": {},
   "outputs": [],
   "source": [
    "#Load packages\n",
    "import pandas as pd\n",
    "import numpy as np\n",
    "from matplotlib import pyplot as plt\n",
    "from sklearn.tree import DecisionTreeRegressor\n",
    "from sklearn.linear_model import Lasso\n",
    "from sklearn.model_selection import train_test_split\n",
    "from sklearn.model_selection import KFold\n",
    "from sklearn.model_selection import GridSearchCV\n",
    "from sklearn.tree import export_graphviz\n",
    "import statsmodels.api as sm\n",
    "from subprocess import call\n",
    "from IPython.display import Image "
   ]
  },
  {
   "cell_type": "code",
   "execution_count": 2,
   "metadata": {},
   "outputs": [
    {
     "data": {
      "text/html": [
       "<div>\n",
       "<style scoped>\n",
       "    .dataframe tbody tr th:only-of-type {\n",
       "        vertical-align: middle;\n",
       "    }\n",
       "\n",
       "    .dataframe tbody tr th {\n",
       "        vertical-align: top;\n",
       "    }\n",
       "\n",
       "    .dataframe thead th {\n",
       "        text-align: right;\n",
       "    }\n",
       "</style>\n",
       "<table border=\"1\" class=\"dataframe\">\n",
       "  <thead>\n",
       "    <tr style=\"text-align: right;\">\n",
       "      <th></th>\n",
       "      <th>Population</th>\n",
       "      <th>Income</th>\n",
       "      <th>Illiteracy</th>\n",
       "      <th>LifeExp</th>\n",
       "      <th>Murder</th>\n",
       "      <th>HighSchoolGrad</th>\n",
       "      <th>Frost</th>\n",
       "      <th>Area</th>\n",
       "      <th>Longitude</th>\n",
       "      <th>Latitude</th>\n",
       "      <th>Region</th>\n",
       "    </tr>\n",
       "  </thead>\n",
       "  <tbody>\n",
       "    <tr>\n",
       "      <th>0</th>\n",
       "      <td>3615</td>\n",
       "      <td>3624</td>\n",
       "      <td>2.1</td>\n",
       "      <td>69.05</td>\n",
       "      <td>15.1</td>\n",
       "      <td>41.3</td>\n",
       "      <td>20</td>\n",
       "      <td>50708</td>\n",
       "      <td>-86.7509</td>\n",
       "      <td>32.5901</td>\n",
       "      <td>South</td>\n",
       "    </tr>\n",
       "    <tr>\n",
       "      <th>1</th>\n",
       "      <td>365</td>\n",
       "      <td>6315</td>\n",
       "      <td>1.5</td>\n",
       "      <td>69.31</td>\n",
       "      <td>11.3</td>\n",
       "      <td>66.7</td>\n",
       "      <td>152</td>\n",
       "      <td>566432</td>\n",
       "      <td>-127.2500</td>\n",
       "      <td>49.2500</td>\n",
       "      <td>West</td>\n",
       "    </tr>\n",
       "    <tr>\n",
       "      <th>2</th>\n",
       "      <td>2212</td>\n",
       "      <td>4530</td>\n",
       "      <td>1.8</td>\n",
       "      <td>70.55</td>\n",
       "      <td>7.8</td>\n",
       "      <td>58.1</td>\n",
       "      <td>15</td>\n",
       "      <td>113417</td>\n",
       "      <td>-111.6250</td>\n",
       "      <td>34.2192</td>\n",
       "      <td>West</td>\n",
       "    </tr>\n",
       "    <tr>\n",
       "      <th>3</th>\n",
       "      <td>2110</td>\n",
       "      <td>3378</td>\n",
       "      <td>1.9</td>\n",
       "      <td>70.66</td>\n",
       "      <td>10.1</td>\n",
       "      <td>39.9</td>\n",
       "      <td>65</td>\n",
       "      <td>51945</td>\n",
       "      <td>-92.2992</td>\n",
       "      <td>34.7336</td>\n",
       "      <td>South</td>\n",
       "    </tr>\n",
       "    <tr>\n",
       "      <th>4</th>\n",
       "      <td>21198</td>\n",
       "      <td>5114</td>\n",
       "      <td>1.1</td>\n",
       "      <td>71.71</td>\n",
       "      <td>10.3</td>\n",
       "      <td>62.6</td>\n",
       "      <td>20</td>\n",
       "      <td>156361</td>\n",
       "      <td>-119.7730</td>\n",
       "      <td>36.5341</td>\n",
       "      <td>West</td>\n",
       "    </tr>\n",
       "  </tbody>\n",
       "</table>\n",
       "</div>"
      ],
      "text/plain": [
       "   Population  Income  Illiteracy  LifeExp  Murder  HighSchoolGrad  Frost  \\\n",
       "0        3615    3624         2.1    69.05    15.1            41.3     20   \n",
       "1         365    6315         1.5    69.31    11.3            66.7    152   \n",
       "2        2212    4530         1.8    70.55     7.8            58.1     15   \n",
       "3        2110    3378         1.9    70.66    10.1            39.9     65   \n",
       "4       21198    5114         1.1    71.71    10.3            62.6     20   \n",
       "\n",
       "     Area  Longitude  Latitude Region  \n",
       "0   50708   -86.7509   32.5901  South  \n",
       "1  566432  -127.2500   49.2500   West  \n",
       "2  113417  -111.6250   34.2192   West  \n",
       "3   51945   -92.2992   34.7336  South  \n",
       "4  156361  -119.7730   36.5341   West  "
      ]
     },
     "execution_count": 2,
     "metadata": {},
     "output_type": "execute_result"
    }
   ],
   "source": [
    "#Read data\n",
    "data = pd.read_csv('StateData.csv')\n",
    "data.head()"
   ]
  },
  {
   "cell_type": "code",
   "execution_count": 3,
   "metadata": {},
   "outputs": [],
   "source": [
    "#Get targets and features\n",
    "target = data.LifeExp\n",
    "features = data.drop(['LifeExp','Longitude','Latitude','Region'],axis=1)"
   ]
  },
  {
   "cell_type": "code",
   "execution_count": 4,
   "metadata": {},
   "outputs": [
    {
     "name": "stdout",
     "output_type": "stream",
     "text": [
      "                            OLS Regression Results                            \n",
      "==============================================================================\n",
      "Dep. Variable:                LifeExp   R-squared:                       0.736\n",
      "Model:                            OLS   Adj. R-squared:                  0.692\n",
      "Method:                 Least Squares   F-statistic:                     16.74\n",
      "Date:                Tue, 22 Nov 2022   Prob (F-statistic):           2.53e-10\n",
      "Time:                        18:50:40   Log-Likelihood:                -51.855\n",
      "No. Observations:                  50   AIC:                             119.7\n",
      "Df Residuals:                      42   BIC:                             135.0\n",
      "Df Model:                           7                                         \n",
      "Covariance Type:            nonrobust                                         \n",
      "==================================================================================\n",
      "                     coef    std err          t      P>|t|      [0.025      0.975]\n",
      "----------------------------------------------------------------------------------\n",
      "Population       5.18e-05   2.92e-05      1.775      0.083    -7.1e-06       0.000\n",
      "Income          -2.18e-05      0.000     -0.089      0.929      -0.001       0.000\n",
      "Illiteracy         0.0338      0.366      0.092      0.927      -0.705       0.773\n",
      "Murder            -0.3011      0.047     -6.459      0.000      -0.395      -0.207\n",
      "HighSchoolGrad     0.0489      0.023      2.098      0.042       0.002       0.096\n",
      "Frost             -0.0057      0.003     -1.825      0.075      -0.012       0.001\n",
      "Area           -7.383e-08   1.67e-06     -0.044      0.965   -3.44e-06    3.29e-06\n",
      "const             70.9432      1.748     40.586      0.000      67.416      74.471\n",
      "==============================================================================\n",
      "Omnibus:                        2.385   Durbin-Watson:                   1.929\n",
      "Prob(Omnibus):                  0.303   Jarque-Bera (JB):                1.420\n",
      "Skew:                          -0.081   Prob(JB):                        0.492\n",
      "Kurtosis:                       2.190   Cond. No.                     1.85e+06\n",
      "==============================================================================\n",
      "\n",
      "Notes:\n",
      "[1] Standard Errors assume that the covariance matrix of the errors is correctly specified.\n",
      "[2] The condition number is large, 1.85e+06. This might indicate that there are\n",
      "strong multicollinearity or other numerical problems.\n"
     ]
    }
   ],
   "source": [
    "#Fit linear regression model\n",
    "mod = sm.OLS(target,sm.add_constant(features, prepend=False))\n",
    "res = mod.fit()\n",
    "print(res.summary())\n",
    "#Murder looks to be the most important (confidence interval is far from zero, large coefficient size relative to the scale, p-value is 0))"
   ]
  },
  {
   "cell_type": "code",
   "execution_count": 21,
   "metadata": {},
   "outputs": [
    {
     "name": "stdout",
     "output_type": "stream",
     "text": [
      "CART R-squared: -1.0960086916742848\n",
      "Lasso R-squared: -0.6290476013205848\n"
     ]
    }
   ],
   "source": [
    "\n",
    "#Split the data\n",
    "X_train, X_test, y_train, y_test = train_test_split(features, target, test_size=0.2, random_state=1)\n",
    "#CART\n",
    "dtree = DecisionTreeRegressor()\n",
    "dtree.fit(X_train,y_train)\n",
    "print('CART R-squared:', dtree.score(X_test, y_test))\n",
    "#Lassoisye \n",
    "lass = Lasso()\n",
    "lass.fit(X_train,y_train)\n",
    "print('Lasso R-squared:', lass.score(X_test, y_test))\n",
    "#CART is better, but both are bad."
   ]
  },
  {
   "cell_type": "code",
   "execution_count": 22,
   "metadata": {},
   "outputs": [
    {
     "name": "stdout",
     "output_type": "stream",
     "text": [
      "CART R-squared: 0.6612896098333689\n",
      "Lasso R-squared: 0.526920309135839\n"
     ]
    }
   ],
   "source": [
    "\n",
    "#Split the data\n",
    "X_train, X_test, y_train, y_test = train_test_split(features, target, test_size=0.2, random_state=2)\n",
    "#CART\n",
    "dtree = DecisionTreeRegressor()\n",
    "dtree.fit(X_train,y_train)\n",
    "print('CART R-squared:', dtree.score(X_test, y_test))\n",
    "#Lasso\n",
    "lass = Lasso()\n",
    "lass.fit(X_train,y_train)\n",
    "print('Lasso R-squared:', lass.score(X_test, y_test))\n",
    "#Lasso is better and both are OK.\n"
   ]
  },
  {
   "cell_type": "code",
   "execution_count": 23,
   "metadata": {},
   "outputs": [],
   "source": [
    "\n",
    "# #Small dataset so high sensitivity to the train-test split.\n",
    "# Need cross validation "
   ]
  },
  {
   "cell_type": "code",
   "execution_count": 24,
   "metadata": {},
   "outputs": [
    {
     "name": "stdout",
     "output_type": "stream",
     "text": [
      "CART average R-squared: -0.6758852524422074\n",
      "Lasso average R-squared: -0.22284465988121113\n"
     ]
    }
   ],
   "source": [
    "\n",
    "#KFold\n",
    "kf = KFold(10,random_state=1,shuffle=True)\n",
    "\n",
    "#Lists to store R-squared\n",
    "tree_score = []\n",
    "lasso_score = []\n",
    "\n",
    "#Loop over each fold\n",
    "for train_index, test_index in kf.split(features):\n",
    "    \n",
    "    #Get the training and testing sets\n",
    "    X_train, X_test = features.loc[train_index], features.loc[test_index]\n",
    "    y_train, y_test = target[train_index], target[test_index]\n",
    "    \n",
    "    #Train/test CART\n",
    "    dtree = DecisionTreeRegressor()\n",
    "    dtree.fit(X_train,y_train)\n",
    "    tree_score.append(dtree.score(X_test, y_test))\n",
    "    \n",
    "    #Train/test Lasso\n",
    "    lass = Lasso()\n",
    "    lass.fit(X_train,y_train)\n",
    "    lasso_score.append(lass.score(X_test,y_test))\n",
    "    \n",
    "#Print average score\n",
    "print('CART average R-squared:', np.mean(tree_score))\n",
    "print('Lasso average R-squared:', np.mean(lasso_score))\n",
    "#Poor performance for both models. May need to tune the hyperparameters to reduce overfitting and model sensitivity."
   ]
  },
  {
   "cell_type": "code",
   "execution_count": 25,
   "metadata": {},
   "outputs": [
    {
     "name": "stdout",
     "output_type": "stream",
     "text": [
      "CART average R-squared: -0.4683729828561938\n",
      "Lasso average R-squared: -0.023855163153866855\n"
     ]
    }
   ],
   "source": [
    "import warnings\n",
    "warnings.filterwarnings(\"ignore\", category=DeprecationWarning) \n",
    "#Q2e\n",
    "\n",
    "#Choose models\n",
    "dtree = DecisionTreeRegressor()\n",
    "lass = Lasso()\n",
    "\n",
    "#Choose set of hyperparams\n",
    "params1 = {'min_samples_leaf':[1,2,3,4,5,6,7,8,9,10]}\n",
    "params2 = {'alpha':[0.001,0.01,0.1,1,10]}\n",
    "\n",
    "#Lists to store R-squared\n",
    "tree_score = []\n",
    "lasso_score = []\n",
    "\n",
    "#Kfold\n",
    "kf = KFold(10,random_state=1,shuffle=True)\n",
    "\n",
    "#Loop over each fold\n",
    "for train_index, test_index in kf.split(features):\n",
    "    \n",
    "    #Get the training and testing sets\n",
    "    X_train, X_test = features.loc[train_index], features.loc[test_index]\n",
    "    y_train, y_test = target[train_index], target[test_index]\n",
    "    \n",
    "    #Train/test CART\n",
    "    clf = GridSearchCV(dtree, params1, cv=10)\n",
    "    clf.fit(X_train,y_train)\n",
    "    tree_score.append(clf.best_estimator_.score(X_test,y_test))\n",
    "    \n",
    "    #Train/test Lasso\n",
    "    clf_lass = GridSearchCV(lass, params2, cv=10)\n",
    "    clf_lass.fit(X_train,y_train)\n",
    "    lasso_score.append(clf_lass.best_estimator_.score(X_test,y_test))\n",
    "    \n",
    "#Print average R-squared\n",
    "print('CART average R-squared:', np.mean(tree_score))\n",
    "print('Lasso average R-squared:', np.mean(lasso_score))\n",
    "#Lasso is the best!"
   ]
  },
  {
   "cell_type": "code",
   "execution_count": 26,
   "metadata": {},
   "outputs": [],
   "source": [
    "\n",
    "#We see a slight improvement from d to e due to tuning our hyperparameters (more for Lasso than CART)."
   ]
  },
  {
   "cell_type": "code",
   "execution_count": null,
   "metadata": {},
   "outputs": [],
   "source": []
  },
  {
   "cell_type": "code",
   "execution_count": null,
   "metadata": {},
   "outputs": [],
   "source": []
  },
  {
   "cell_type": "code",
   "execution_count": 27,
   "metadata": {},
   "outputs": [
    {
     "name": "stdout",
     "output_type": "stream",
     "text": [
      "CART average R-squared: 0.29152297875894045\n",
      "Lasso average R-squared: 0.45891213966657435\n"
     ]
    }
   ],
   "source": [
    "import warnings\n",
    "warnings.filterwarnings(\"ignore\", category=DeprecationWarning) \n",
    "#Q2e\n",
    "\n",
    "#Choose models\n",
    "dtree = DecisionTreeRegressor()\n",
    "lass = Lasso()\n",
    "\n",
    "#Choose set of hyperparams\n",
    "params1 = {'min_samples_leaf':[1,2,3,4,5,6,7,8,9,10]}\n",
    "params2 = {'alpha':[0.001,0.01,0.1,1,10]}\n",
    "\n",
    "#Lists to store R-squared\n",
    "tree_score = []\n",
    "lasso_score = []\n",
    "\n",
    "#Kfold\n",
    "kf = KFold(3,random_state=1,shuffle=True)\n",
    "\n",
    "#Loop over each fold\n",
    "for train_index, test_index in kf.split(features):\n",
    "    \n",
    "    #Get the training and testing sets\n",
    "    X_train, X_test = features.loc[train_index], features.loc[test_index]\n",
    "    y_train, y_test = target[train_index], target[test_index]\n",
    "    \n",
    "    #Train/test CART\n",
    "    clf = GridSearchCV(dtree, params1, cv=3)\n",
    "    clf.fit(X_train,y_train)\n",
    "    tree_score.append(clf.best_estimator_.score(X_test,y_test))\n",
    "    \n",
    "    #Train/test Lasso\n",
    "    clf_lass = GridSearchCV(lass, params2, cv=3)\n",
    "    clf_lass.fit(X_train,y_train)\n",
    "    lasso_score.append(clf_lass.best_estimator_.score(X_test,y_test))\n",
    "    \n",
    "#Print average R-squared\n",
    "print('CART average R-squared:', np.mean(tree_score))\n",
    "print('Lasso average R-squared:', np.mean(lasso_score))\n",
    "#Lasso is the best!"
   ]
  },
  {
   "cell_type": "code",
   "execution_count": null,
   "metadata": {
    "collapsed": true
   },
   "outputs": [],
   "source": []
  },
  {
   "cell_type": "code",
   "execution_count": null,
   "metadata": {
    "collapsed": true
   },
   "outputs": [],
   "source": []
  }
 ],
 "metadata": {
  "kernelspec": {
   "display_name": "Python 3 (ipykernel)",
   "language": "python",
   "name": "python3"
  },
  "language_info": {
   "codemirror_mode": {
    "name": "ipython",
    "version": 3
   },
   "file_extension": ".py",
   "mimetype": "text/x-python",
   "name": "python",
   "nbconvert_exporter": "python",
   "pygments_lexer": "ipython3",
   "version": "3.9.13"
  }
 },
 "nbformat": 4,
 "nbformat_minor": 2
}
